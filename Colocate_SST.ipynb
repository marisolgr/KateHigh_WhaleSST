{
 "cells": [
  {
   "cell_type": "code",
   "execution_count": null,
   "id": "bdc90ac3",
   "metadata": {},
   "outputs": [],
   "source": [
    "# Modules\n",
    "import warnings\n",
    "warnings.simplefilter('ignore') # filter some warning messages\n",
    "\n",
    "import numpy as np\n",
    "import pandas as pd\n",
    "import xarray as xr\n",
    "from calendar import monthrange"
   ]
  },
  {
   "cell_type": "code",
   "execution_count": null,
   "id": "a51f1f39",
   "metadata": {},
   "outputs": [],
   "source": [
    "# input file\n",
    "fnin = 'era3_strandings.csv'\n",
    "#output file\n",
    "fnout ='era3_strandings_29March2022.csv'"
   ]
  },
  {
   "cell_type": "code",
   "execution_count": null,
   "id": "4d7634d3",
   "metadata": {
    "scrolled": true
   },
   "outputs": [],
   "source": [
    "# anomalies of SST\n",
    "dsa = xr.open_mfdataset('./OISSTa/OISST_*.nc')\n",
    "iy=dsa['time.year'].min().data\n",
    "fy=dsa['time.year'].max().data\n",
    "dsa"
   ]
  },
  {
   "cell_type": "code",
   "execution_count": null,
   "id": "cf202b5d",
   "metadata": {
    "scrolled": true
   },
   "outputs": [],
   "source": [
    "# SST climatology\n",
    "dsc = xr.open_dataset('./OISSTa/OISSTdV2_KateHigh_Cal.nc')\n",
    "dsc.close()\n",
    "dscm = dsc.resample(time='1M').mean(keep_attrs=True,skipna=False)\n",
    "dscm"
   ]
  },
  {
   "cell_type": "code",
   "execution_count": null,
   "id": "13c8b934",
   "metadata": {
    "scrolled": true
   },
   "outputs": [],
   "source": [
    "# read whale data in csv format\n",
    "mam = pd.read_csv(fnin)\n",
    "mam['Annual SSTa (C)']=np.nan\n",
    "mam['Annual SST (C)']=np.nan\n",
    "mam['Season SSTa (C)']=np.nan\n",
    "mam['Season SST (C)']=np.nan\n",
    "mam['Winter SSTa (C)']=np.nan\n",
    "mam['Winter SST (C)']=np.nan\n",
    "#list(mam)"
   ]
  },
  {
   "cell_type": "code",
   "execution_count": null,
   "id": "58687a12",
   "metadata": {
    "scrolled": true
   },
   "outputs": [],
   "source": [
    "# collocate data\n",
    "# list the number of records processed\n",
    "re = 1\n",
    "mos = np.arange(1,13,1) # month numbers\n",
    "ses = np.ceil(mos/3) # season\n",
    "for row in mam.iterrows():\n",
    "    lats = row[1]['georeferenced latitude']\n",
    "    lons = row[1]['georeferenced longitude']\n",
    "    years = int(row[1]['year'])\n",
    "    months = int(row[1]['month'])\n",
    "      \n",
    "    print('record # ', re)\n",
    "    \n",
    "    # colocate data - anomalies, Annual\n",
    "    fecha1 = str(years)+'-01-01'\n",
    "    edy = monthrange(years, months)[1]\n",
    "    fecha2 = str(years)+'-12-31'\n",
    "    t = dsa.sel(lat=float(lats),lon=float(lons)+360, method='ffill', tolerance=0.3)\n",
    "    t2 = t.sel(time=slice(fecha1,fecha2)).anom.mean()\n",
    "    mam.at[row[0],'Annual SSTa (C)'] = t2.values\n",
    "    # climatology + anomalies\n",
    "    t3 = dscm.sel(lat=float(lats),lon=float(lons)+360, method='ffill', tolerance=0.3)\n",
    "    mam.at[row[0],'Annual SST (C)'] = t2.values + t3.sst.mean().values\n",
    "    \n",
    "    # colocate data - anomalies, Seasonal\n",
    "    se = int(np.ceil(months/3))\n",
    "    a=ses==se\n",
    "    b=mos[a]\n",
    "    fecha1 = str(years)+'-'+str(b[0]).zfill(2)+'-01'\n",
    "    edy = monthrange(years, b[2])[1]\n",
    "    fecha2 = str(years)+'-'+str(b[2]).zfill(2)+'-'+str(edy).zfill(2)\n",
    "    t = dsa.sel(lat=float(lats),lon=float(lons)+360, method='ffill', tolerance=0.3)\n",
    "    t2 = t.sel(time=slice(fecha1,fecha2)).anom.mean()\n",
    "    mam.at[row[0],'Season SSTa (C)'] = t2.values\n",
    "    # climatology + anomalies\n",
    "    t3 = dscm.sel(lat=float(lats),lon=float(lons)+360, method='ffill', tolerance=0.3)\n",
    "    fecha1 = '0001-'+str(b[0]).zfill(2)+'-01'\n",
    "    fecha2 = '0001-'+str(b[2]).zfill(2)+'-'+str(edy).zfill(2)\n",
    "    t4 = t3.sel(time=slice(fecha1,fecha2)).sst.mean()\n",
    "    mam.at[row[0],'Season SST (C)'] = t2.values + t4.values\n",
    "    \n",
    "    # colocate data - anomalies, winter\n",
    "    fecha1 = str(years)+'-01-01'\n",
    "    edy = monthrange(years, months)[1]\n",
    "    fecha2 = str(years)+'-03-31'\n",
    "    t = dsa.sel(lat=float(lats),lon=float(lons)+360, method='ffill', tolerance=0.3)\n",
    "    t2 = t.sel(time=slice(fecha1,fecha2)).anom.mean()\n",
    "    mam.at[row[0],'Winter SSTa (C)'] = t2.values\n",
    "    # climatology + anomalies\n",
    "    t3 = dscm.sel(lat=float(lats),lon=float(lons)+360, method='ffill', tolerance=0.3)\n",
    "    fecha1 = '0001-01-01'\n",
    "    fecha2 = '0001-03-31'\n",
    "    t4 = t3.sel(time=slice(fecha1,fecha2)).sst.mean()\n",
    "    mam.at[row[0],'Winter SST (C)'] = t2.values + t4.values\n",
    "    \n",
    "    re +=1"
   ]
  },
  {
   "cell_type": "code",
   "execution_count": null,
   "id": "2e41fd3f",
   "metadata": {},
   "outputs": [],
   "source": [
    "mam"
   ]
  },
  {
   "cell_type": "code",
   "execution_count": null,
   "id": "3b2476aa",
   "metadata": {
    "scrolled": true
   },
   "outputs": [],
   "source": [
    "# save the file\n",
    "mam.to_csv(fnout)"
   ]
  },
  {
   "cell_type": "code",
   "execution_count": null,
   "id": "bb876869",
   "metadata": {},
   "outputs": [],
   "source": []
  }
 ],
 "metadata": {
  "kernelspec": {
   "display_name": "Python 3 (ipykernel)",
   "language": "python",
   "name": "python3"
  },
  "language_info": {
   "codemirror_mode": {
    "name": "ipython",
    "version": 3
   },
   "file_extension": ".py",
   "mimetype": "text/x-python",
   "name": "python",
   "nbconvert_exporter": "python",
   "pygments_lexer": "ipython3",
   "version": "3.9.12"
  }
 },
 "nbformat": 4,
 "nbformat_minor": 5
}
